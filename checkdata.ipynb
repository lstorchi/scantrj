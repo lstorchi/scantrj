{
 "cells": [
  {
   "cell_type": "code",
   "execution_count": 3,
   "metadata": {},
   "outputs": [
    {
     "name": "stdout",
     "output_type": "stream",
     "text": [
      "    name   sscore    ssize   dscore   volume sexposure senclosure sbalance linearity planarity sphericity anisotropy \n",
      "n_site_2   0.9439  40.0000   0.8910  70.9581   0.4118   0.9687   3.9198   0.5960   0.3493   0.0547   0.9453 \n",
      "n_site_1   0.8760  57.0000   0.7621 114.1333   0.3448   0.7812   0.7148   0.1110   0.5419   0.3472   0.6528 \n",
      "n_site_3   0.6893  34.0000   0.4511 145.1747   0.5904   0.6904   0.1183   0.8964   0.0559   0.0476   0.9524 \n",
      "n_site_4   0.4646  13.0000   0.4000  35.5005   0.7759   0.5206   0.8178   0.7522   0.1940   0.0538   0.9462 \n",
      "n_site_5   0.4581  15.0000   0.4189  37.9015   0.8193   0.4498   0.4442   0.8215   0.0947   0.0838   0.9162 \n"
     ]
    }
   ],
   "source": [
    "import pandas as pd\n",
    "\n",
    "xls = pd.ExcelFile(\"./data/Fulldata.xlsx\")\n",
    "data = pd.read_excel(xls)\n",
    "\n",
    "#4204 site 1 the one used \n",
    "snapselected = \"4204\"\n",
    "\n",
    "selected = []\n",
    "\n",
    "for name in data[\"name\"]:\n",
    "    if name.find(snapselected) > 0:\n",
    "        l = list(data[data[\"name\"] == name].values[0])        \n",
    "        selected.append(l)\n",
    "\n",
    "for n in data.columns:\n",
    "    print(\"%8s \"%(n), end=\"\")   \n",
    "\n",
    "print(\"\")\n",
    "\n",
    "for v in selected:\n",
    "    for i, sv in enumerate(v):\n",
    "        if i == 0:\n",
    "            print(\"%8s \"%(sv[-8:]), end=\"\")\n",
    "        else:\n",
    "            print(\"%8.4f \"%(sv), end=\"\")\n",
    "\n",
    "\n",
    "    print(\"\")  "
   ]
  },
  {
   "cell_type": "code",
   "execution_count": null,
   "metadata": {},
   "outputs": [],
   "source": [
    "# In pratica questi sono i vari siti individuati nello snapshot della dinamica "
   ]
  },
  {
   "cell_type": "code",
   "execution_count": 4,
   "metadata": {},
   "outputs": [
    {
     "name": "stdout",
     "output_type": "stream",
     "text": [
      "Index(['name', 'sscore', 'ssize', 'dscore', 'volume', 'sexposure',\n",
      "       'senclosure', 'sbalance', 'linearity', 'planarity', 'sphericity',\n",
      "       'anisotropy'],\n",
      "      dtype='object')\n"
     ]
    }
   ],
   "source": [
    "print(data.columns)\n"
   ]
  },
  {
   "cell_type": "code",
   "execution_count": 5,
   "metadata": {},
   "outputs": [
    {
     "name": "stdout",
     "output_type": "stream",
     "text": [
      "('sphericity', 'anisotropy') 0.9999999999999988\n",
      "('anisotropy', 'sphericity') 0.9999999999999988\n",
      "('sscore', 'ssize') 0.8955251170847576\n",
      "('ssize', 'sscore') 0.8955251170847576\n",
      "('linearity', 'planarity') 0.8815509400637974\n",
      "('planarity', 'linearity') 0.8815509400637974\n",
      "('sscore', 'dscore') 0.8645357965990296\n",
      "('dscore', 'sscore') 0.8645357965990296\n",
      "('ssize', 'volume') 0.8167498086664703\n",
      "('volume', 'ssize') 0.8167498086664703\n",
      "('ssize', 'dscore') 0.813470718041173\n",
      "('dscore', 'ssize') 0.813470718041173\n",
      "('sexposure', 'sscore') 0.7736838269251762\n",
      "('sscore', 'sexposure') 0.7736838269251762\n",
      "('sexposure', 'senclosure') 0.7668443039223555\n",
      "('senclosure', 'sexposure') 0.7668443039223555\n",
      "('sscore', 'volume') 0.7067576349454726\n",
      "('volume', 'sscore') 0.7067576349454726\n"
     ]
    },
    {
     "data": {
      "text/plain": [
       "<matplotlib.axes._subplots.AxesSubplot at 0x7fda74d7e358>"
      ]
     },
     "execution_count": 5,
     "metadata": {},
     "output_type": "execute_result"
    },
    {
     "data": {
      "image/png": "[encoded data removed]",
      "text/plain": [
       "<matplotlib.figure.Figure at 0x7fda75755898>"
      ]
     },
     "metadata": {},
     "output_type": "display_data"
    }
   ],
   "source": [
    "# queste sono quelle autocalcolate \n",
    "#        linearity \n",
    "#        planarity\n",
    "#        sphericity \n",
    "#        anisotropy \n",
    "\n",
    "import seaborn as sns\n",
    "\n",
    "corr = data.corr().abs()\n",
    "\n",
    "s = corr.unstack()\n",
    "so = s.sort_values(kind=\"quicksort\", ascending=False)\n",
    "\n",
    "for s in so.index:\n",
    "    if so[s] < 1.0 and so[s] > 0.7:\n",
    "        print (s, so[s])\n",
    "\n",
    "sns.heatmap(corr, \n",
    "        xticklabels=corr.columns,\n",
    "        yticklabels=corr.columns)\n",
    "\n"
   ]
  },
  {
   "cell_type": "code",
   "execution_count": 6,
   "metadata": {},
   "outputs": [
    {
     "name": "stdout",
     "output_type": "stream",
     "text": [
      "Looking for  4204\n",
      "e200k_4204.jrun_site_2  in  sscore\n",
      "e200k_4204.jrun_site_2  in  dscore\n",
      "e200k_4204.jrun_site_2  in  senclosure\n"
     ]
    }
   ],
   "source": [
    "\n",
    "first = {}\n",
    "N = 200\n",
    "\n",
    "for cname in data.columns:\n",
    "    if cname != \"name\":\n",
    "       first[cname] = data.sort_values(by=[cname], ascending=False).head(N)\n",
    "\n",
    "print(\"Looking for \", snapselected)\n",
    "    \n",
    "for k in first:\n",
    "    d =first[k]\n",
    "    for name in d[\"name\"]:\n",
    "        if name.find(snapselected) > 0:\n",
    "            print(name, \" in \", k)\n"
   ]
  },
  {
   "cell_type": "code",
   "execution_count": 31,
   "metadata": {},
   "outputs": [
    {
     "name": "stdout",
     "output_type": "stream",
     "text": [
      "                         name   sscore  ssize   dscore     volume  sexposure  \\\n",
      "15249  e200k_4922.jrun_site_1  0.93995    118  0.93973  289.19187    0.63580   \n",
      "7511   e200k_4932.jrun_site_1  0.92976     98  0.88809  238.59938    0.64364   \n",
      "19287  e200k_4898.jrun_site_1  0.95366    110  0.95013  259.82250    0.60854   \n",
      "17245  e200k_4911.jrun_site_1  0.93473     93  0.87798  266.55388    0.66058   \n",
      "17342  e200k_4970.jrun_site_1  0.93508    118  0.93668  288.97750    0.63009   \n",
      "18640  e200k_5189.jrun_site_1  0.93834    115  0.93395  314.78825    0.62171   \n",
      "1522   e200k_5157.jrun_site_1  0.92995     92  0.88344  250.73300    0.62602   \n",
      "9441   e200k_5153.jrun_site_1  0.93034     90  0.89708  266.21087    0.61373   \n",
      "17740  e200k_5161.jrun_site_1  0.96475     97  0.92329  291.42138    0.61355   \n",
      "15447  e200k_5141.jrun_site_1  0.94050    101  0.94022  264.79600    0.64311   \n",
      "\n",
      "       senclosure  sbalance  linearity  planarity  sphericity  anisotropy  \n",
      "15249     0.60820   0.26991    0.97212    0.01629     0.01159     0.98841  \n",
      "7511      0.60399   0.18909    0.96541    0.02131     0.01327     0.98673  \n",
      "19287     0.62870   0.34753    0.96278    0.02358     0.01363     0.98637  \n",
      "17245     0.63947   0.21354    0.97504    0.00955     0.01541     0.98459  \n",
      "17342     0.60093   0.24160    0.96141    0.02092     0.01766     0.98234  \n",
      "18640     0.60580   0.16321    0.96669    0.00954     0.02377     0.97623  \n",
      "1522      0.63802   0.14268    0.95471    0.02116     0.02413     0.97587  \n",
      "9441      0.65010   0.18157    0.95317    0.02186     0.02497     0.97503  \n",
      "17740     0.66187   0.20382    0.95841    0.00982     0.03177     0.96823  \n",
      "15447     0.60902   0.25774    0.93832    0.02817     0.03351     0.96649  \n"
     ]
    }
   ],
   "source": [
    "N = 10\n",
    "print(first[\"sscore\"].sort_values(by=[\"anisotropy\"], ascending=False).head(N))"
   ]
  },
  {
   "cell_type": "code",
   "execution_count": 7,
   "metadata": {},
   "outputs": [
    {
     "name": "stdout",
     "output_type": "stream",
     "text": [
      "                        name   sscore  ssize   dscore     volume  sexposure  \\\n",
      "2832  e200k_4204.jrun_site_1  0.87597     57  0.76211  114.13325    0.34483   \n",
      "\n",
      "      senclosure  sbalance  linearity  planarity  sphericity  anisotropy  \n",
      "2832     0.78115   0.71482    0.11096    0.54185     0.34719     0.65281  \n"
     ]
    }
   ],
   "source": [
    "# vediamo i valori per il sito selezionato che dovrebbe essere e200k_4204.jrun_site_2\n",
    "print(data[data[\"name\"] == \"e200k_4204.jrun_site_1\"])\n"
   ]
  },
  {
   "cell_type": "code",
   "execution_count": 8,
   "metadata": {},
   "outputs": [
    {
     "name": "stdout",
     "output_type": "stream",
     "text": [
      "There are  192\n",
      "e200k_4204.jrun_site_1  found \n"
     ]
    }
   ],
   "source": [
    "# sitescore > 0.8, exposure < 0.49, enclosure < 0.78, phobic/philic balance ≈ 1.0.\n",
    "filter1 = data[data[\"sscore\"] > 0.8]\n",
    "filter12 = filter1[filter1[\"sexposure\"] < 0.49]\n",
    "filter123 = filter12[filter12[\"senclosure\"] < 0.79]\n",
    "filter1234 = filter123[filter123[\"sbalance\"] < 1.3] \n",
    "filter1234 = filter1234[filter1234[\"sbalance\"] > 0.7]\n",
    "\n",
    "# in realta' per i filtri devo usare valori leggermente diversi per farlo rientrare \n",
    "\n",
    "print(\"There are \", len(filter1234))\n",
    "\n",
    "for name in filter1234[\"name\"]:\n",
    "    if name.find(snapselected) >= 0:\n",
    "        print(name, \" found \")\n",
    "        \n",
    "        "
   ]
  },
  {
   "cell_type": "code",
   "execution_count": 22,
   "metadata": {},
   "outputs": [
    {
     "name": "stdout",
     "output_type": "stream",
     "text": [
      "range for  planarity  is  0.76252 0.01695\n",
      "   0.314625\n",
      "range for  linearity  is  0.8355 0.03538\n",
      "   0.3992291145833333\n",
      "range for  anisotropy  is  0.94274 0.2266\n",
      "   0.71385453125\n",
      "range for  sphericity  is  0.7734 0.05726\n",
      "   0.28614546875\n",
      "                        name   sscore  ssize   dscore     volume  sexposure  \\\n",
      "2832  e200k_4204.jrun_site_1  0.87597     57  0.76211  114.13325    0.34483   \n",
      "\n",
      "      senclosure  sbalance  linearity  planarity  sphericity  anisotropy  \n",
      "2832     0.78115   0.71482    0.11096    0.54185     0.34719     0.65281  \n"
     ]
    },
    {
     "data": {
      "image/png": "[encoded data removed]",
      "text/plain": [
       "<matplotlib.figure.Figure at 0x7fda729ecb38>"
      ]
     },
     "metadata": {},
     "output_type": "display_data"
    }
   ],
   "source": [
    "import matplotlib.pyplot as plt\n",
    "import numpy\n",
    "\n",
    "fig = plt.figure(figsize = (15,5))\n",
    "\n",
    "ax = fig.add_axes([0,0,1,1])\n",
    "\n",
    "ax.set_title('Histogram geometric parameters')\n",
    "ax.set_xlabel('Bins')\n",
    "ax.set_ylabel('Value')\n",
    "\n",
    "for ln in [\"planarity\", \"linearity\", \"anisotropy\", \"sphericity\"]:\n",
    "    plt.hist(filter1234[ln].values, bins = 20, label=ln)\n",
    "    print(\"range for \", ln , \" is \", max(filter1234[ln].values), min(filter1234[ln].values))\n",
    "    print(\"  \",numpy.mean(filter1234[ln].values))\n",
    "    \n",
    "print(data[data[\"name\"] == \"e200k_4204.jrun_site_1\"])\n",
    "\n",
    "plt.show()\n",
    "\n",
    "\n"
   ]
  },
  {
   "cell_type": "code",
   "execution_count": 33,
   "metadata": {},
   "outputs": [
    {
     "name": "stdout",
     "output_type": "stream",
     "text": [
      "36\n",
      "                         name   sscore  ssize   dscore     volume  sexposure  \\\n",
      "6188   e200k_4530.jrun_site_2  0.93962     73  0.90524  127.46738    0.41129   \n",
      "11933  e200k_8781.jrun_site_1  0.93079     71  0.86937  133.59850    0.36036   \n",
      "19551  e200k_4946.jrun_site_2  0.91823     67  0.82919  119.49263    0.39091   \n",
      "9197   e200k_5863.jrun_site_1  0.91724     69  0.92255  140.88725    0.44355   \n",
      "6435   e200k_5530.jrun_site_1  0.91568     66  0.82199  138.57200    0.35294   \n",
      "1854   e200k_4248.jrun_site_1  0.90201     66  0.82068  132.18363    0.40541   \n",
      "19197  e200k_4073.jrun_site_1  0.89769     63  0.81064  119.10675    0.41667   \n",
      "5145   e200k_3370.jrun_site_1  0.89453     64  0.82438  130.98313    0.43363   \n",
      "14671  e200k_3379.jrun_site_1  0.89428     62  0.80824  127.46738    0.42056   \n",
      "17423  e200k_3729.jrun_site_1  0.89363     63  0.79093  122.45100    0.45217   \n",
      "15214  e200k_9010.jrun_site_1  0.89348     67  0.88701  135.39925    0.47656   \n",
      "13298  e200k_2424.jrun_site_1  0.88213     66  0.86023  137.28575    0.48031   \n",
      "14963  e200k_3135.jrun_site_1  0.87731     64  0.87848  132.14075    0.47541   \n",
      "2832   e200k_4204.jrun_site_1  0.87597     57  0.76211  114.13325    0.34483   \n",
      "18221  e200k_5471.jrun_site_1  0.87471     58  0.78725  106.45862    0.44762   \n",
      "20849  e200k_2272.jrun_site_2  0.87138     61  0.80614  112.33250    0.43519   \n",
      "18525  e200k_3205.jrun_site_1  0.86311     57  0.75098  125.66662    0.43564   \n",
      "11500  e200k_4627.jrun_site_1  0.85482     60  0.79970  121.50775    0.47368   \n",
      "12593  e200k_8613.jrun_site_1  0.85203     63  0.80338  113.01850    0.47059   \n",
      "2662   e200k_5810.jrun_site_1  0.84858     55  0.76361  104.27200    0.42105   \n",
      "15494  e200k_2673.jrun_site_1  0.84480     59  0.79383  118.20637    0.47788   \n",
      "2326   e200k_4133.jrun_site_1  0.84153     56  0.79409   95.22537    0.44000   \n",
      "20973  e200k_5451.jrun_site_1  0.83884     57  0.80465  131.71200    0.46729   \n",
      "18226  e200k_3342.jrun_site_1  0.83501     59  0.81007  124.80912    0.48246   \n",
      "15340  e200k_4065.jrun_site_1  0.83387     52  0.75433  108.04500    0.39535   \n",
      "16877  e200k_3053.jrun_site_1  0.83075     52  0.79076  101.27075    0.48000   \n",
      "7182   e200k_3173.jrun_site_1  0.83008     52  0.70308   89.82313    0.44681   \n",
      "8767   e200k_3235.jrun_site_1  0.82995     49  0.71403   93.21025    0.47312   \n",
      "4258   e200k_4038.jrun_site_2  0.82729     48  0.73992   87.16487    0.44828   \n",
      "2913   e200k_4080.jrun_site_1  0.82628     49  0.71473   91.75250    0.46739   \n",
      "6474   e200k_4174.jrun_site_1  0.82106     51  0.69779   93.98200    0.45161   \n",
      "3918   e200k_4544.jrun_site_1  0.82064     57  0.79757  105.55825    0.47706   \n",
      "9506   e200k_5977.jrun_site_1  0.82000     55  0.78258   97.92650    0.45545   \n",
      "1373   e200k_3958.jrun_site_2  0.81966     46  0.70024   82.36288    0.47727   \n",
      "19269  e200k_4169.jrun_site_1  0.81917     50  0.73440   87.29350    0.40476   \n",
      "20362  e200k_4927.jrun_site_2  0.80120     57  0.76182   95.91138    0.46729   \n",
      "\n",
      "       senclosure  sbalance  linearity  planarity  sphericity  anisotropy  \n",
      "6188      0.76734   1.18869    0.25704    0.40445     0.33851     0.66149  \n",
      "11933     0.76706   1.10913    0.27718    0.40388     0.31894     0.68106  \n",
      "19551     0.77468   1.00745    0.30604    0.35041     0.34355     0.65645  \n",
      "9197      0.71252   1.18810    0.11729    0.34399     0.53872     0.46128  \n",
      "6435      0.77758   0.83446    0.20321    0.49654     0.30025     0.69975  \n",
      "1854      0.75714   0.78161    0.25185    0.41444     0.33371     0.66629  \n",
      "19197     0.77117   0.73383    0.24312    0.34667     0.41021     0.58979  \n",
      "5145      0.75956   0.78215    0.11188    0.37333     0.51479     0.48521  \n",
      "14671     0.77300   0.77913    0.13882    0.36992     0.49126     0.50874  \n",
      "17423     0.76509   0.70292    0.32609    0.36041     0.31351     0.68649  \n",
      "15214     0.71047   1.26502    0.20125    0.33853     0.46023     0.53977  \n",
      "13298     0.72743   0.87160    0.18575    0.41172     0.40253     0.59747  \n",
      "14963     0.68566   1.09221    0.17987    0.43258     0.38755     0.61245  \n",
      "2832      0.78115   0.71482    0.11096    0.54185     0.34719     0.65281  \n",
      "18221     0.77205   0.95144    0.18395    0.44802     0.36803     0.63197  \n",
      "20849     0.74574   1.13897    0.22096    0.34277     0.43627     0.56373  \n",
      "18525     0.76193   0.75912    0.14985    0.50251     0.34764     0.65236  \n",
      "11500     0.72803   0.95168    0.35352    0.32338     0.32311     0.67689  \n",
      "12593     0.70289   0.76055    0.26376    0.33192     0.40432     0.59568  \n",
      "2662      0.75485   1.02933    0.15477    0.40475     0.44048     0.55952  \n",
      "15494     0.72015   0.75029    0.30024    0.34901     0.35075     0.64925  \n",
      "2326      0.73696   0.83756    0.05040    0.38577     0.56382     0.43618  \n",
      "20973     0.72564   1.10595    0.33581    0.37572     0.28848     0.71152  \n",
      "18226     0.69747   0.90039    0.07637    0.41833     0.50531     0.49469  \n",
      "15340     0.75535   0.89794    0.22557    0.32640     0.44803     0.55197  \n",
      "16877     0.74678   1.21646    0.24242    0.40873     0.34885     0.65115  \n",
      "7182      0.74968   0.96287    0.20365    0.36077     0.43558     0.56442  \n",
      "8767      0.77262   0.77530    0.28098    0.37617     0.34285     0.65715  \n",
      "4258      0.77652   1.07142    0.25866    0.43100     0.31034     0.68966  \n",
      "2913      0.76714   0.86086    0.31729    0.33620     0.34651     0.65349  \n",
      "6474      0.74383   0.73194    0.30432    0.35229     0.34339     0.65661  \n",
      "3918      0.68270   1.19018    0.24384    0.42810     0.32806     0.67194  \n",
      "9506      0.71212   1.03276    0.20643    0.41518     0.37839     0.62161  \n",
      "1373      0.78110   0.94055    0.26369    0.44484     0.29146     0.70854  \n",
      "19269     0.74872   0.78127    0.19673    0.42085     0.38243     0.61757  \n",
      "20362     0.66936   0.87415    0.34836    0.32960     0.32204     0.67796  \n"
     ]
    }
   ],
   "source": [
    "#N = 10\n",
    "#print(filter1234.sort_values(by=[\"planarity\"], ascending=False).head(N))\n",
    "# posso immaginare una cosa del genere, selezione in base ai filtri e poi \n",
    "# prendo tutti i siti con valore di sfericità planarità e anisotropia maggiori del valore medio\n",
    "# planarity > medio  sphericity > medio \n",
    "finalselection = filter1234[filter1234[\"planarity\"] > numpy.mean(filter1234[\"planarity\"].values)]\n",
    "finalselection = finalselection[finalselection[\"sphericity\"] > numpy.mean(filter1234[\"sphericity\"].values)]\n",
    "#finalselection = finalselection[finalselection[\"anisotropy\"] > numpy.mean(filter1234[\"anisotropy\"].values)]\n",
    "\n",
    "print(len(finalselection))\n",
    "\n",
    "print(finalselection.sort_values(by=[\"sscore\"], ascending=False))"
   ]
  },
  {
   "cell_type": "code",
   "execution_count": 41,
   "metadata": {},
   "outputs": [
    {
     "name": "stdout",
     "output_type": "stream",
     "text": [
      "How many conformers  36\n"
     ]
    }
   ],
   "source": [
    "conformers = set()\n",
    "for n in finalselection[\"name\"].values:\n",
    "    conformer = n.replace(\"e200k_\", \"\").split(\".\")[0]\n",
    "    conformers.add(conformer)\n",
    "    \n",
    "print(\"How many conformers \", len(conformers))\n"
   ]
  },
  {
   "cell_type": "code",
   "execution_count": null,
   "metadata": {},
   "outputs": [],
   "source": []
  }
 ],
 "metadata": {
  "kernelspec": {
   "display_name": "Python 3",
   "language": "python",
   "name": "python3"
  },
  "language_info": {
   "codemirror_mode": {
    "name": "ipython",
    "version": 3
   },
   "file_extension": ".py",
   "mimetype": "text/x-python",
   "name": "python",
   "nbconvert_exporter": "python",
   "pygments_lexer": "ipython3",
   "version": "3.6.9"
  }
 },
 "nbformat": 4,
 "nbformat_minor": 2
}
