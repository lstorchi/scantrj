{
 "cells": [
  {
   "cell_type": "code",
   "execution_count": 2,
   "metadata": {},
   "outputs": [
    {
     "name": "stdout",
     "output_type": "stream",
     "text": [
      "    name   sscore    ssize   dscore   volume sexposure senclosure sbalance linearity planarity sphericity anisotropy \n",
      "n_site_2   0.9439  40.0000   0.8910  70.9581   0.4118   0.9687   3.9198   0.5960   0.3493   0.0547   0.9453 \n",
      "n_site_1   0.8760  57.0000   0.7621 114.1333   0.3448   0.7812   0.7148   0.1110   0.5419   0.3472   0.6528 \n",
      "n_site_3   0.6893  34.0000   0.4511 145.1747   0.5904   0.6904   0.1183   0.8964   0.0559   0.0476   0.9524 \n",
      "n_site_4   0.4646  13.0000   0.4000  35.5005   0.7759   0.5206   0.8178   0.7522   0.1940   0.0538   0.9462 \n",
      "n_site_5   0.4581  15.0000   0.4189  37.9015   0.8193   0.4498   0.4442   0.8215   0.0947   0.0838   0.9162 \n"
     ]
    }
   ],
   "source": [
    "import pandas as pd\n",
    "\n",
    "xls = pd.ExcelFile(\"./data/Fulldata.xlsx\")\n",
    "data = pd.read_excel(xls)\n",
    "\n",
    "#4204 site 1 the one used \n",
    "snapselected = \"4204\"\n",
    "\n",
    "selected = []\n",
    "\n",
    "for name in data[\"name\"]:\n",
    "    if name.find(snapselected) > 0:\n",
    "        l = list(data[data[\"name\"] == name].values[0])        \n",
    "        selected.append(l)\n",
    "\n",
    "for n in data.columns:\n",
    "    print(\"%8s \"%(n), end=\"\")   \n",
    "\n",
    "print(\"\")\n",
    "\n",
    "for v in selected:\n",
    "    for i, sv in enumerate(v):\n",
    "        if i == 0:\n",
    "            print(\"%8s \"%(sv[-8:]), end=\"\")\n",
    "        else:\n",
    "            print(\"%8.4f \"%(sv), end=\"\")\n",
    "\n",
    "\n",
    "    print(\"\")  "
   ]
  },
  {
   "cell_type": "code",
   "execution_count": null,
   "metadata": {},
   "outputs": [],
   "source": [
    "# In pratica questi sono i vari siti individuati nello snapshot della dinamica "
   ]
  },
  {
   "cell_type": "code",
   "execution_count": 3,
   "metadata": {},
   "outputs": [
    {
     "name": "stdout",
     "output_type": "stream",
     "text": [
      "Index(['name', 'sscore', 'ssize', 'dscore', 'volume', 'sexposure',\n",
      "       'senclosure', 'sbalance', 'linearity', 'planarity', 'sphericity',\n",
      "       'anisotropy'],\n",
      "      dtype='object')\n"
     ]
    }
   ],
   "source": [
    "print(data.columns)\n"
   ]
  },
  {
   "cell_type": "code",
   "execution_count": 28,
   "metadata": {},
   "outputs": [
    {
     "name": "stdout",
     "output_type": "stream",
     "text": [
      "('sphericity', 'anisotropy') 0.9999999999999988\n",
      "('anisotropy', 'sphericity') 0.9999999999999988\n",
      "('sscore', 'ssize') 0.8955251170847576\n",
      "('ssize', 'sscore') 0.8955251170847576\n",
      "('linearity', 'planarity') 0.8815509400637974\n",
      "('planarity', 'linearity') 0.8815509400637974\n",
      "('sscore', 'dscore') 0.8645357965990296\n",
      "('dscore', 'sscore') 0.8645357965990296\n",
      "('ssize', 'volume') 0.8167498086664703\n",
      "('volume', 'ssize') 0.8167498086664703\n",
      "('ssize', 'dscore') 0.813470718041173\n",
      "('dscore', 'ssize') 0.813470718041173\n",
      "('sexposure', 'sscore') 0.7736838269251762\n",
      "('sscore', 'sexposure') 0.7736838269251762\n",
      "('sexposure', 'senclosure') 0.7668443039223555\n",
      "('senclosure', 'sexposure') 0.7668443039223555\n",
      "('sscore', 'volume') 0.7067576349454726\n",
      "('volume', 'sscore') 0.7067576349454726\n"
     ]
    },
    {
     "data": {
      "text/plain": [
       "<matplotlib.axes._subplots.AxesSubplot at 0x7f08a7abc4a8>"
      ]
     },
     "execution_count": 28,
     "metadata": {},
     "output_type": "execute_result"
    },
    {
     "data": {
      "image/png": "[encoded data removed]",
      "text/plain": [
       "<matplotlib.figure.Figure at 0x7f08a7a58198>"
      ]
     },
     "metadata": {},
     "output_type": "display_data"
    }
   ],
   "source": [
    "# queste sono quelle autocalcolate \n",
    "#        linearity \n",
    "#        planarity\n",
    "#        sphericity \n",
    "#        anisotropy \n",
    "\n",
    "import seaborn as sns\n",
    "\n",
    "corr = data.corr().abs()\n",
    "\n",
    "s = corr.unstack()\n",
    "so = s.sort_values(kind=\"quicksort\", ascending=False)\n",
    "\n",
    "for s in so.index:\n",
    "    if so[s] < 1.0 and so[s] > 0.7:\n",
    "        print (s, so[s])\n",
    "\n",
    "sns.heatmap(corr, \n",
    "        xticklabels=corr.columns,\n",
    "        yticklabels=corr.columns)\n",
    "\n"
   ]
  },
  {
   "cell_type": "code",
   "execution_count": 17,
   "metadata": {},
   "outputs": [
    {
     "name": "stdout",
     "output_type": "stream",
     "text": [
      "Looking for  4204\n",
      "e200k_4204.jrun_site_2  in  sscore\n",
      "e200k_4204.jrun_site_2  in  dscore\n",
      "e200k_4204.jrun_site_2  in  senclosure\n"
     ]
    }
   ],
   "source": [
    "\n",
    "first = {}\n",
    "N = 200\n",
    "\n",
    "for cname in data.columns:\n",
    "    if cname != \"name\":\n",
    "       first[cname] = data.sort_values(by=[cname], ascending=False).head(N)\n",
    "\n",
    "print(\"Looking for \", snapselected)\n",
    "    \n",
    "for k in first:\n",
    "    d =first[k]\n",
    "    for name in d[\"name\"]:\n",
    "        if name.find(snapselected) > 0:\n",
    "            print(name, \" in \", k)\n"
   ]
  },
  {
   "cell_type": "code",
   "execution_count": 31,
   "metadata": {},
   "outputs": [
    {
     "name": "stdout",
     "output_type": "stream",
     "text": [
      "                         name   sscore  ssize   dscore     volume  sexposure  \\\n",
      "15249  e200k_4922.jrun_site_1  0.93995    118  0.93973  289.19187    0.63580   \n",
      "7511   e200k_4932.jrun_site_1  0.92976     98  0.88809  238.59938    0.64364   \n",
      "19287  e200k_4898.jrun_site_1  0.95366    110  0.95013  259.82250    0.60854   \n",
      "17245  e200k_4911.jrun_site_1  0.93473     93  0.87798  266.55388    0.66058   \n",
      "17342  e200k_4970.jrun_site_1  0.93508    118  0.93668  288.97750    0.63009   \n",
      "18640  e200k_5189.jrun_site_1  0.93834    115  0.93395  314.78825    0.62171   \n",
      "1522   e200k_5157.jrun_site_1  0.92995     92  0.88344  250.73300    0.62602   \n",
      "9441   e200k_5153.jrun_site_1  0.93034     90  0.89708  266.21087    0.61373   \n",
      "17740  e200k_5161.jrun_site_1  0.96475     97  0.92329  291.42138    0.61355   \n",
      "15447  e200k_5141.jrun_site_1  0.94050    101  0.94022  264.79600    0.64311   \n",
      "\n",
      "       senclosure  sbalance  linearity  planarity  sphericity  anisotropy  \n",
      "15249     0.60820   0.26991    0.97212    0.01629     0.01159     0.98841  \n",
      "7511      0.60399   0.18909    0.96541    0.02131     0.01327     0.98673  \n",
      "19287     0.62870   0.34753    0.96278    0.02358     0.01363     0.98637  \n",
      "17245     0.63947   0.21354    0.97504    0.00955     0.01541     0.98459  \n",
      "17342     0.60093   0.24160    0.96141    0.02092     0.01766     0.98234  \n",
      "18640     0.60580   0.16321    0.96669    0.00954     0.02377     0.97623  \n",
      "1522      0.63802   0.14268    0.95471    0.02116     0.02413     0.97587  \n",
      "9441      0.65010   0.18157    0.95317    0.02186     0.02497     0.97503  \n",
      "17740     0.66187   0.20382    0.95841    0.00982     0.03177     0.96823  \n",
      "15447     0.60902   0.25774    0.93832    0.02817     0.03351     0.96649  \n"
     ]
    }
   ],
   "source": [
    "N = 10\n",
    "print(first[\"sscore\"].sort_values(by=[\"anisotropy\"], ascending=False).head(N))"
   ]
  },
  {
   "cell_type": "code",
   "execution_count": null,
   "metadata": {},
   "outputs": [],
   "source": []
  }
 ],
 "metadata": {
  "kernelspec": {
   "display_name": "Python 3",
   "language": "python",
   "name": "python3"
  },
  "language_info": {
   "codemirror_mode": {
    "name": "ipython",
    "version": 3
   },
   "file_extension": ".py",
   "mimetype": "text/x-python",
   "name": "python",
   "nbconvert_exporter": "python",
   "pygments_lexer": "ipython3",
   "version": "3.6.9"
  }
 },
 "nbformat": 4,
 "nbformat_minor": 2
}
